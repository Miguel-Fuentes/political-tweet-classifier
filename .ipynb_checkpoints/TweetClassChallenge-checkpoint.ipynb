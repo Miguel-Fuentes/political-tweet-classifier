{
 "cells": [
  {
   "cell_type": "code",
   "execution_count": 10,
   "metadata": {},
   "outputs": [],
   "source": [
    "import tweepy\n",
    "from sklearn.model_selection import train_test_split\n",
    "from textblob.classifiers import NaiveBayesClassifier\n",
    "import re"
   ]
  },
  {
   "cell_type": "code",
   "execution_count": 11,
   "metadata": {},
   "outputs": [
    {
     "data": {
      "text/plain": [
       "'public_tweets = api.home_timeline()\\nfor tweet in public_tweets:\\n    print(tweet.text)'"
      ]
     },
     "execution_count": 11,
     "metadata": {},
     "output_type": "execute_result"
    }
   ],
   "source": [
    "#This aouthentication stuff is used to get tweets\n",
    "\n",
    "consumer_key = \"idrlfeZz3xKG2ZIljCMupqGwn\"\n",
    "consumer_secret = \"7qpiiNlqxTyXkujKRaxd1esHyr3Xthydavarx05gSgNGEUnuAY\"\n",
    "\n",
    "access_token = \"969724922124816384-9vBm7uhnH9XpLLxFvO34TtOdYeczg41\"\n",
    "#access_token_secret = \"bMKHZgGOp8qTqldhfrRqN7iardHzgvZSgwTbACfi9qEWp\"\n",
    "\n",
    "auth = tweepy.OAuthHandler(consumer_key, consumer_secret)\n",
    "#auth.set_access_token(access_token, access_token_secret)\n",
    "\n",
    "api = tweepy.API(auth)\n",
    "\n",
    "'''public_tweets = api.home_timeline()\n",
    "for tweet in public_tweets:\n",
    "    print(tweet.text)'''"
   ]
  },
  {
   "cell_type": "code",
   "execution_count": 24,
   "metadata": {},
   "outputs": [],
   "source": [
    "def get_tweets_lean(tag,leaning,count_):\n",
    "    try:\n",
    "        stuff = api.user_timeline(screen_name = tag, count = count_,include_rts = False)\n",
    "    except:\n",
    "        print(\"error when looking for \" + tag + \"'s tweets\")\n",
    "        return([])\n",
    "\n",
    "    return [(cleantweet(tweet.text.encode(\"utf-8\")),leaning) for tweet in stuff]\n",
    "\n",
    "def get_tweets(tag,count_):\n",
    "    try:\n",
    "        stuff = api.user_timeline(screen_name = tag, count = count_, include_rts = False)\n",
    "    except:\n",
    "        print(\"error when looking for \" + tag + \"'s tweets\")\n",
    "        return([])\n",
    "\n",
    "    return [cleantweet(tweet.text.encode(\"utf-8\")) for tweet in stuff]"
   ]
  },
  {
   "cell_type": "code",
   "execution_count": 13,
   "metadata": {},
   "outputs": [],
   "source": [
    "def cleantweet(x):\n",
    "    x = re.sub(r'\\w+:\\/{2}[\\d\\w-]+(\\.[\\d\\w-]+)*(?:(?:\\/[^\\s/]*))*', '', x.decode(\"utf-8\"))\n",
    "    return(x)"
   ]
  },
  {
   "cell_type": "code",
   "execution_count": 25,
   "metadata": {},
   "outputs": [
    {
     "name": "stdout",
     "output_type": "stream",
     "text": [
      "error when looking for JohnBoehner's tweets\n"
     ]
    }
   ],
   "source": [
    "numTweets = 50\n",
    "\n",
    "liberals = [(\"SaraJBenincasa\", \"neg\"), (\"DrJaneChi\", \"neg\"), (\"caulkthewagon\", \"neg\"),(\"melissagira\", \"neg\"), (\"AngryBlackLady\",\"neg\"),(\"andreagrimes\",\"neg\"),(\"ClinicEscort\",\"neg\"),(\"katie_speak\",\"neg\"),(\"TheChrisMosier\",\"neg\"),(\"mollyknefel\",\"neg\"),(\"scATX\", \"neg\"),(\"gaywonk\",\"neg\"),(\"jamiekilstein\",\"neg\"),(\"pastachips\",\"neg\"),(\"TransGriot\",\"neg\"),(\"chrisgeidner\",\"neg\"),(\"CameronCRussell\",\"neg\"),(\"lsarsour\",\"neg\"),(\"ztsamudzi\",\"neg\")]\n",
    "conservatives = conservatives = [(\"MichaelJohns\",\"pos\"),(\"JohnBoehner\",\"pos\"),(\"SarahPalinUSA\",\"pos\"),(\"Heritage\",\"pos\"),(\"RedState\",\"pos\"),(\"GlennBeck\",\"pos\"),(\"KarlRove\",\"pos\"),(\"NewtGingrich\",\"pos\"),(\"FredThompson\",\"pos\"),(\"MittRomney\",\"pos\"),(\"JoeNBC\",\"pos\"),(\"SeanHannity\",\"pos\"),(\"theMRC\", \"pos\"),(\"RNC\",\"pos\"),(\"dickmorristweet\",\"pos\"),(\"LoyaltoLiberty\",\"pos\"),(\"HotAirBlog\",\"pos\"),(\"USConservatives\",\"pos\")]\n",
    "\n",
    "allHandles = liberals + conservatives\n",
    "data = []\n",
    "\n",
    "for handle in allHandles:\n",
    "    for thing in get_tweets_lean(handle[0],handle[1],numTweets):\n",
    "        data.append(thing)"
   ]
  },
  {
   "cell_type": "code",
   "execution_count": 26,
   "metadata": {},
   "outputs": [],
   "source": [
    "classifier = NaiveBayesClassifier(data)"
   ]
  },
  {
   "cell_type": "code",
   "execution_count": 21,
   "metadata": {},
   "outputs": [],
   "source": [
    "def predict(user):\n",
    "    tweets = get_tweets(user,numTweets)\n",
    "    scores = [classifier.classify(tweet) for tweet in tweets]\n",
    "    return (scores.count(\"pos\")/len(scores))"
   ]
  },
  {
   "cell_type": "code",
   "execution_count": 29,
   "metadata": {},
   "outputs": [],
   "source": [
    "inputData = ['SenDougJones', 'SenTomCotton', 'SenatorRounds', 'SenFeinstein', 'SenatorHeitkamp', 'SenSasse', 'SenatorRisch', 'SenJackReed', 'GOPSenFinance', 'SenTedCruz', 'BankingGOP', 'SenatorTester', 'SenBrianSchatz', 'SenatorFischer', 'SenJoniErnst', 'HELPCmteDems', 'SASCDems', 'SenJohnKennedy', 'SenateMajLdr', 'SenTinaSmith', 'SenateDems', 'SenDanSullivan', 'SenKamalaHarris', 'MikeCrapo', 'SenateCommerce', 'sendavidperdue', 'SenatorHassan', 'SenateHSGACDems', 'senategopfloor', 'EPWGOP', 'SenAngusKing', 'SenatorBaldwin', 'SenCortezMasto', 'SenThadCochran', 'SenThomTillis', 'SenJohnHoeven', 'SenDuckworth', 'MartinHeinrich', 'SenWarren', 'SenateGOP', 'SenBooker', 'JudiciaryDems']\n",
    "results = [(senator,predict(senator)) for senator in inputData]"
   ]
  },
  {
   "cell_type": "code",
   "execution_count": 30,
   "metadata": {},
   "outputs": [
    {
     "data": {
      "text/plain": [
       "[('SenDougJones', 0.3333333333333333),\n",
       " ('SenTomCotton', 0.825),\n",
       " ('SenatorRounds', 0.8260869565217391),\n",
       " ('SenFeinstein', 0.7291666666666666),\n",
       " ('SenatorHeitkamp', 0.5416666666666666),\n",
       " ('SenSasse', 0.5416666666666666),\n",
       " ('SenatorRisch', 0.6451612903225806),\n",
       " ('SenJackReed', 0.6944444444444444),\n",
       " ('GOPSenFinance', 0.7647058823529411),\n",
       " ('SenTedCruz', 0.8260869565217391),\n",
       " ('BankingGOP', 0.85),\n",
       " ('SenatorTester', 0.5609756097560976),\n",
       " ('SenBrianSchatz', 0.7),\n",
       " ('SenatorFischer', 0.4634146341463415),\n",
       " ('SenJoniErnst', 0.6530612244897959),\n",
       " ('HELPCmteDems', 0.6),\n",
       " ('SASCDems', 0.6896551724137931),\n",
       " ('SenJohnKennedy', 0.6176470588235294),\n",
       " ('SenateMajLdr', 0.8333333333333334),\n",
       " ('SenTinaSmith', 0.2653061224489796),\n",
       " ('SenateDems', 0.6),\n",
       " ('SenDanSullivan', 0.5306122448979592),\n",
       " ('SenKamalaHarris', 0.6326530612244898),\n",
       " ('MikeCrapo', 0.7037037037037037),\n",
       " ('SenateCommerce', 0.8421052631578947),\n",
       " ('sendavidperdue', 0.6486486486486487),\n",
       " ('SenatorHassan', 0.5625),\n",
       " ('SenateHSGACDems', 0.6),\n",
       " ('senategopfloor', 0.98),\n",
       " ('EPWGOP', 0.8620689655172413),\n",
       " ('SenAngusKing', 0.44),\n",
       " ('SenatorBaldwin', 0.3877551020408163),\n",
       " ('SenCortezMasto', 0.6739130434782609),\n",
       " ('SenThadCochran', 0.75),\n",
       " ('SenThomTillis', 0.7),\n",
       " ('SenJohnHoeven', 0.72),\n",
       " ('SenDuckworth', 0.5227272727272727),\n",
       " ('MartinHeinrich', 0.4888888888888889),\n",
       " ('SenWarren', 0.5208333333333334),\n",
       " ('SenateGOP', 0.7368421052631579),\n",
       " ('SenBooker', 0.7857142857142857),\n",
       " ('JudiciaryDems', 0.8461538461538461)]"
      ]
     },
     "execution_count": 30,
     "metadata": {},
     "output_type": "execute_result"
    }
   ],
   "source": [
    "results"
   ]
  },
  {
   "cell_type": "code",
   "execution_count": null,
   "metadata": {},
   "outputs": [],
   "source": []
  }
 ],
 "metadata": {
  "kernelspec": {
   "display_name": "Python 3",
   "language": "python",
   "name": "python3"
  },
  "language_info": {
   "codemirror_mode": {
    "name": "ipython",
    "version": 3
   },
   "file_extension": ".py",
   "mimetype": "text/x-python",
   "name": "python",
   "nbconvert_exporter": "python",
   "pygments_lexer": "ipython3",
   "version": "3.6.3"
  }
 },
 "nbformat": 4,
 "nbformat_minor": 2
}

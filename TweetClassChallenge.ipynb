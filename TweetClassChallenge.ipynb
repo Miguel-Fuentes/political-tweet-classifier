{
 "cells": [
  {
   "cell_type": "code",
   "execution_count": 10,
   "metadata": {},
   "outputs": [],
   "source": [
    "import tweepy #This is the python Twitter API\n",
    "from textblob.classifiers import NaiveBayesClassifier #This is the model that was used to classify tweets\n",
    "import re #python regular expressions"
   ]
  },
  {
   "cell_type": "code",
   "execution_count": 11,
   "metadata": {},
   "outputs": [
    {
     "data": {
      "text/plain": [
       "'public_tweets = api.home_timeline()\\nfor tweet in public_tweets:\\n    print(tweet.text)'"
      ]
     },
     "execution_count": 11,
     "metadata": {},
     "output_type": "execute_result"
    }
   ],
   "source": [
    "#This aouthentication stuff is used to get tweets\n",
    "\n",
    "consumer_key = \"idrlfeZz3xKG2ZIljCMupqGwn\"\n",
    "consumer_secret = \"7qpiiNlqxTyXkujKRaxd1esHyr3Xthydavarx05gSgNGEUnuAY\"\n",
    "\n",
    "access_token = \"969724922124816384-9vBm7uhnH9XpLLxFvO34TtOdYeczg41\"\n",
    "\n",
    "auth = tweepy.OAuthHandler(consumer_key, consumer_secret)\n",
    "\n",
    "api = tweepy.API(auth)"
   ]
  },
  {
   "cell_type": "code",
   "execution_count": 24,
   "metadata": {},
   "outputs": [],
   "source": [
    "def get_tweets_lean(tag,leaning,count_):\n",
    "    '''\n",
    "    This function takes a twitter user then scrapes and cleanes their most recent tweets and tags \n",
    "    them all with a political leaning which is known beforehand\n",
    "    '''\n",
    "    try:\n",
    "        # Get the person's tweets\n",
    "        stuff = api.user_timeline(screen_name = tag, count = count_,include_rts = False)\n",
    "    except:\n",
    "        print(\"error when looking for \" + tag + \"'s tweets\")\n",
    "        return([])\n",
    "\n",
    "    # Return a list of (tweet,tag) tuple for all of the tweets, this assumes that every tweet from\n",
    "    # the person in questional is tweet with their political leaning\n",
    "    return [(cleantweet(tweet.text.encode(\"utf-8\")),leaning) for tweet in stuff]\n",
    "\n",
    "def get_tweets(tag,count_):\n",
    "    '''\n",
    "    This function takes a twitter user then scrapes and cleanes their most recent tweets without \n",
    "    tagging them\n",
    "    '''\n",
    "    try:\n",
    "        stuff = api.user_timeline(screen_name = tag, count = count_, include_rts = False)\n",
    "    except:\n",
    "        print(\"error when looking for \" + tag + \"'s tweets\")\n",
    "        return([])\n",
    "\n",
    "    return [cleantweet(tweet.text.encode(\"utf-8\")) for tweet in stuff]"
   ]
  },
  {
   "cell_type": "code",
   "execution_count": 13,
   "metadata": {},
   "outputs": [],
   "source": [
    "def cleantweet(x):\n",
    "    #Regular expression to clean any weird characters from the tweets\n",
    "    x = re.sub(r'\\w+:\\/{2}[\\d\\w-]+(\\.[\\d\\w-]+)*(?:(?:\\/[^\\s/]*))*', '', x.decode(\"utf-8\"))\n",
    "    return(x)"
   ]
  },
  {
   "cell_type": "code",
   "execution_count": 25,
   "metadata": {},
   "outputs": [
    {
     "name": "stdout",
     "output_type": "stream",
     "text": [
      "error when looking for JohnBoehner's tweets\n"
     ]
    }
   ],
   "source": [
    "#Here we decide how many tweets to get from every person\n",
    "numTweets = 50\n",
    "\n",
    "#We manually picked a list of liberal and conservative influencers to train the model, liberals were\n",
    "#assigned the negative label and conservatives the positive label (this decision was arbitrary)\n",
    "liberals = [(\"SaraJBenincasa\", \"neg\"), (\"DrJaneChi\", \"neg\"), (\"caulkthewagon\", \"neg\"),(\"melissagira\", \"neg\"), (\"AngryBlackLady\",\"neg\"),(\"andreagrimes\",\"neg\"),(\"ClinicEscort\",\"neg\"),(\"katie_speak\",\"neg\"),(\"TheChrisMosier\",\"neg\"),(\"mollyknefel\",\"neg\"),(\"scATX\", \"neg\"),(\"gaywonk\",\"neg\"),(\"jamiekilstein\",\"neg\"),(\"pastachips\",\"neg\"),(\"TransGriot\",\"neg\"),(\"chrisgeidner\",\"neg\"),(\"CameronCRussell\",\"neg\"),(\"lsarsour\",\"neg\"),(\"ztsamudzi\",\"neg\")]\n",
    "conservatives = [(\"MichaelJohns\",\"pos\"),(\"JohnBoehner\",\"pos\"),(\"SarahPalinUSA\",\"pos\"),(\"Heritage\",\"pos\"),(\"RedState\",\"pos\"),(\"GlennBeck\",\"pos\"),(\"KarlRove\",\"pos\"),(\"NewtGingrich\",\"pos\"),(\"FredThompson\",\"pos\"),(\"MittRomney\",\"pos\"),(\"JoeNBC\",\"pos\"),(\"SeanHannity\",\"pos\"),(\"theMRC\", \"pos\"),(\"RNC\",\"pos\"),(\"dickmorristweet\",\"pos\"),(\"LoyaltoLiberty\",\"pos\"),(\"HotAirBlog\",\"pos\"),(\"USConservatives\",\"pos\")]\n",
    "\n",
    "allHandles = liberals + conservatives\n",
    "data = []\n",
    "\n",
    "for handle in allHandles:\n",
    "    for thing in get_tweets_lean(handle[0],handle[1],numTweets):\n",
    "        #every individual (tweet,leaning) tuple from every influencer was put into the list data\n",
    "        data.append(thing)"
   ]
  },
  {
   "cell_type": "code",
   "execution_count": 26,
   "metadata": {},
   "outputs": [],
   "source": [
    "#here we define and train the classifier\n",
    "classifier = NaiveBayesClassifier(data)"
   ]
  },
  {
   "cell_type": "code",
   "execution_count": 21,
   "metadata": {},
   "outputs": [],
   "source": [
    "#this gives a twitter a score based on how many of their tweets are classified as conservative\n",
    "def predict(user):\n",
    "    tweets = get_tweets(user,numTweets)\n",
    "    scores = [classifier.classify(tweet) for tweet in tweets]\n",
    "    return (scores.count(\"pos\")/len(scores))"
   ]
  },
  {
   "cell_type": "code",
   "execution_count": 29,
   "metadata": {},
   "outputs": [],
   "source": [
    "#inputdata is a list of senators which we were evaluated on (this list was not available until \n",
    "#the end of the challenge)\n",
    "inputData = ['SenDougJones', 'SenTomCotton', 'SenatorRounds', 'SenFeinstein', 'SenatorHeitkamp', 'SenSasse', 'SenatorRisch', 'SenJackReed', 'GOPSenFinance', 'SenTedCruz', 'BankingGOP', 'SenatorTester', 'SenBrianSchatz', 'SenatorFischer', 'SenJoniErnst', 'HELPCmteDems', 'SASCDems', 'SenJohnKennedy', 'SenateMajLdr', 'SenTinaSmith', 'SenateDems', 'SenDanSullivan', 'SenKamalaHarris', 'MikeCrapo', 'SenateCommerce', 'sendavidperdue', 'SenatorHassan', 'SenateHSGACDems', 'senategopfloor', 'EPWGOP', 'SenAngusKing', 'SenatorBaldwin', 'SenCortezMasto', 'SenThadCochran', 'SenThomTillis', 'SenJohnHoeven', 'SenDuckworth', 'MartinHeinrich', 'SenWarren', 'SenateGOP', 'SenBooker', 'JudiciaryDems']\n",
    "results = [(senator,predict(senator)) for senator in inputData]"
   ]
  },
  {
   "cell_type": "code",
   "execution_count": 30,
   "metadata": {},
   "outputs": [
    {
     "data": {
      "text/plain": [
       "[('SenDougJones', 0.3333333333333333),\n",
       " ('SenTomCotton', 0.825),\n",
       " ('SenatorRounds', 0.8260869565217391),\n",
       " ('SenFeinstein', 0.7291666666666666),\n",
       " ('SenatorHeitkamp', 0.5416666666666666),\n",
       " ('SenSasse', 0.5416666666666666),\n",
       " ('SenatorRisch', 0.6451612903225806),\n",
       " ('SenJackReed', 0.6944444444444444),\n",
       " ('GOPSenFinance', 0.7647058823529411),\n",
       " ('SenTedCruz', 0.8260869565217391),\n",
       " ('BankingGOP', 0.85),\n",
       " ('SenatorTester', 0.5609756097560976),\n",
       " ('SenBrianSchatz', 0.7),\n",
       " ('SenatorFischer', 0.4634146341463415),\n",
       " ('SenJoniErnst', 0.6530612244897959),\n",
       " ('HELPCmteDems', 0.6),\n",
       " ('SASCDems', 0.6896551724137931),\n",
       " ('SenJohnKennedy', 0.6176470588235294),\n",
       " ('SenateMajLdr', 0.8333333333333334),\n",
       " ('SenTinaSmith', 0.2653061224489796),\n",
       " ('SenateDems', 0.6),\n",
       " ('SenDanSullivan', 0.5306122448979592),\n",
       " ('SenKamalaHarris', 0.6326530612244898),\n",
       " ('MikeCrapo', 0.7037037037037037),\n",
       " ('SenateCommerce', 0.8421052631578947),\n",
       " ('sendavidperdue', 0.6486486486486487),\n",
       " ('SenatorHassan', 0.5625),\n",
       " ('SenateHSGACDems', 0.6),\n",
       " ('senategopfloor', 0.98),\n",
       " ('EPWGOP', 0.8620689655172413),\n",
       " ('SenAngusKing', 0.44),\n",
       " ('SenatorBaldwin', 0.3877551020408163),\n",
       " ('SenCortezMasto', 0.6739130434782609),\n",
       " ('SenThadCochran', 0.75),\n",
       " ('SenThomTillis', 0.7),\n",
       " ('SenJohnHoeven', 0.72),\n",
       " ('SenDuckworth', 0.5227272727272727),\n",
       " ('MartinHeinrich', 0.4888888888888889),\n",
       " ('SenWarren', 0.5208333333333334),\n",
       " ('SenateGOP', 0.7368421052631579),\n",
       " ('SenBooker', 0.7857142857142857),\n",
       " ('JudiciaryDems', 0.8461538461538461)]"
      ]
     },
     "execution_count": 30,
     "metadata": {},
     "output_type": "execute_result"
    }
   ],
   "source": [
    "results"
   ]
  },
  {
   "cell_type": "code",
   "execution_count": null,
   "metadata": {},
   "outputs": [],
   "source": []
  }
 ],
 "metadata": {
  "kernelspec": {
   "display_name": "Python 3",
   "language": "python",
   "name": "python3"
  },
  "language_info": {
   "codemirror_mode": {
    "name": "ipython",
    "version": 3
   },
   "file_extension": ".py",
   "mimetype": "text/x-python",
   "name": "python",
   "nbconvert_exporter": "python",
   "pygments_lexer": "ipython3",
   "version": "3.6.3"
  }
 },
 "nbformat": 4,
 "nbformat_minor": 2
}
